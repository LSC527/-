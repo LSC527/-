{
 "cells": [
  {
   "cell_type": "code",
   "execution_count": 1,
   "metadata": {
    "ExecuteTime": {
     "end_time": "2020-02-19T03:24:15.794823Z",
     "start_time": "2020-02-19T03:23:58.296883Z"
    }
   },
   "outputs": [],
   "source": [
    "import numpy as np\n",
    "import pandas as pd\n",
    "import os\n",
    "import matplotlib.pylab as plt\n",
    "import seaborn as sns\n",
    "import gc\n",
    "from tqdm import tqdm\n",
    "\n",
    "from IPython.core.interactiveshell import InteractiveShell\n",
    "InteractiveShell.ast_node_interactivity = \"all\"\n",
    "pd.set_option('display.max_rows', 100)\n",
    "pd.set_option('display.max_columns', 100)"
   ]
  },
  {
   "cell_type": "code",
   "execution_count": 2,
   "metadata": {
    "ExecuteTime": {
     "end_time": "2020-02-19T03:24:55.626515Z",
     "start_time": "2020-02-19T03:24:24.466853Z"
    }
   },
   "outputs": [],
   "source": [
    "path = 'D:/data/molecule_open_data/'\n",
    "train = pd.read_csv(path+'candidate_train.csv')\n",
    "test = pd.read_csv(path+'candidate_val.csv')\n",
    "label = pd.read_csv(path+'train_answer.csv')"
   ]
  },
  {
   "cell_type": "code",
   "execution_count": 9,
   "metadata": {
    "ExecuteTime": {
     "end_time": "2020-02-19T03:33:48.584155Z",
     "start_time": "2020-02-19T03:33:48.287934Z"
    }
   },
   "outputs": [
    {
     "name": "stdout",
     "output_type": "stream",
     "text": [
      "<class 'pandas.core.frame.DataFrame'>\n",
      "RangeIndex: 79267 entries, 0 to 79266\n",
      "Columns: 3178 entries, 0 to id\n",
      "dtypes: float64(21), int64(3156), object(1)\n",
      "memory usage: 1.9+ GB\n",
      "<class 'pandas.core.frame.DataFrame'>\n",
      "RangeIndex: 26358 entries, 0 to 26357\n",
      "Columns: 3178 entries, 0 to id\n",
      "dtypes: float64(21), int64(3156), object(1)\n",
      "memory usage: 639.1+ MB\n",
      "<class 'pandas.core.frame.DataFrame'>\n",
      "RangeIndex: 79267 entries, 0 to 79266\n",
      "Data columns (total 7 columns):\n",
      "id    79267 non-null object\n",
      "p1    79267 non-null float64\n",
      "p2    79267 non-null float64\n",
      "p3    79267 non-null float64\n",
      "p4    79267 non-null float64\n",
      "p5    79267 non-null float64\n",
      "p6    79267 non-null float64\n",
      "dtypes: float64(6), object(1)\n",
      "memory usage: 4.2+ MB\n"
     ]
    }
   ],
   "source": [
    "train.info()\n",
    "test.info()\n",
    "label.info()"
   ]
  },
  {
   "cell_type": "code",
   "execution_count": 7,
   "metadata": {
    "ExecuteTime": {
     "end_time": "2020-02-12T05:48:57.923299Z",
     "start_time": "2020-02-12T05:48:55.616951Z"
    },
    "scrolled": true
   },
   "outputs": [
    {
     "data": {
      "text/plain": [
       "51"
      ]
     },
     "execution_count": 7,
     "metadata": {},
     "output_type": "execute_result"
    },
    {
     "name": "stdout",
     "output_type": "stream",
     "text": [
      "['0', '1', '2', '3', '4', '5', '19', '21', '26', '32', '38', '39', '40', '41', '42', '43', '44', '45', '46', '47', '48', '49', '50', '51', '52', '53', '54', '55', '56', '57', '58', '59', '60', '61', '62', '63', '64', '65', '66', '67', '68', '69', '70', '71', '72', '73', '74', '75', '76', '77', '78']\n"
     ]
    }
   ],
   "source": [
    "drop_feat = []\n",
    "for col in train.columns:\n",
    "    if train[col].nunique() == 1:\n",
    "        drop_feat.append(col)\n",
    "len(drop_feat)\n",
    "print(drop_feat)"
   ]
  },
  {
   "cell_type": "code",
   "execution_count": 8,
   "metadata": {
    "ExecuteTime": {
     "end_time": "2020-02-12T05:48:57.935811Z",
     "start_time": "2020-02-12T05:48:57.925293Z"
    }
   },
   "outputs": [
    {
     "name": "stdout",
     "output_type": "stream",
     "text": [
      "3127\n"
     ]
    }
   ],
   "source": [
    "used_feat = [f for f in train.columns if f not in drop_feat]\n",
    "print(len(used_feat))"
   ]
  },
  {
   "cell_type": "code",
   "execution_count": 9,
   "metadata": {
    "ExecuteTime": {
     "end_time": "2020-02-12T05:48:59.886894Z",
     "start_time": "2020-02-12T05:48:57.939765Z"
    }
   },
   "outputs": [
    {
     "data": {
      "text/plain": [
       "28624"
      ]
     },
     "execution_count": 9,
     "metadata": {},
     "output_type": "execute_result"
    }
   ],
   "source": [
    "train = train[used_feat]\n",
    "test = test[used_feat]\n",
    "gc.collect()"
   ]
  },
  {
   "cell_type": "code",
   "execution_count": 10,
   "metadata": {
    "ExecuteTime": {
     "end_time": "2020-02-12T05:49:06.515428Z",
     "start_time": "2020-02-12T05:48:59.888888Z"
    }
   },
   "outputs": [],
   "source": [
    "train = pd.merge(train, label, on='id', how='left')"
   ]
  },
  {
   "cell_type": "code",
   "execution_count": 11,
   "metadata": {
    "ExecuteTime": {
     "end_time": "2020-02-12T05:49:06.531812Z",
     "start_time": "2020-02-12T05:49:06.515428Z"
    }
   },
   "outputs": [],
   "source": [
    "def reduce_mem_usage(df, verbose=True):\n",
    "    numerics = ['int16', 'int32', 'int64', 'float16', 'float32', 'float64']\n",
    "    start_mem = df.memory_usage().sum() / 1024**2\n",
    "    for col in tqdm(df.columns):\n",
    "        col_type = df[col].dtypes\n",
    "        if col_type in numerics:\n",
    "            c_min = df[col].min()\n",
    "            c_max = df[col].max()\n",
    "            if str(col_type)[:3] == 'int':\n",
    "                if c_min > np.iinfo(np.int8).min and c_max < np.iinfo(np.int8).max:\n",
    "                    df[col] = df[col].astype(np.int8)\n",
    "                elif c_min > np.iinfo(np.int16).min and c_max < np.iinfo(np.int16).max:\n",
    "                    df[col] = df[col].astype(np.int16)\n",
    "                elif c_min > np.iinfo(np.int32).min and c_max < np.iinfo(np.int32).max:\n",
    "                    df[col] = df[col].astype(np.int32)\n",
    "                elif c_min > np.iinfo(np.int64).min and c_max < np.iinfo(np.int64).max:\n",
    "                    df[col] = df[col].astype(np.int64)\n",
    "            else:\n",
    "                if c_min > np.finfo(np.float16).min and c_max < np.finfo(np.float16).max:\n",
    "                    df[col] = df[col].astype(np.float32) #if not to_feather: np.float16\n",
    "                elif c_min > np.finfo(np.float32).min and c_max < np.finfo(np.float32).max:\n",
    "                    df[col] = df[col].astype(np.float32)\n",
    "                else:\n",
    "                    df[col] = df[col].astype(np.float64)\n",
    "    end_mem = df.memory_usage().sum() / 1024**2\n",
    "    if verbose:\n",
    "        print('Mem. usage decreased to {:5.2f} Mb ({:.1f}% reduction)'.format(\n",
    "            end_mem, 100 * (start_mem - end_mem) / start_mem))\n",
    "    return df"
   ]
  },
  {
   "cell_type": "code",
   "execution_count": 12,
   "metadata": {
    "ExecuteTime": {
     "end_time": "2020-02-12T06:26:40.657498Z",
     "start_time": "2020-02-12T05:49:06.534799Z"
    }
   },
   "outputs": [
    {
     "name": "stdout",
     "output_type": "stream",
     "text": [
      "Mem. usage decreased to 244.10 Mb (87.1% reduction)\n",
      "Mem. usage decreased to 80.36 Mb (87.2% reduction)\n"
     ]
    },
    {
     "data": {
      "text/plain": [
       "0"
      ]
     },
     "execution_count": 12,
     "metadata": {},
     "output_type": "execute_result"
    }
   ],
   "source": [
    "train = reduce_mem_usage(train)\n",
    "test = reduce_mem_usage(test)\n",
    "gc.collect()"
   ]
  },
  {
   "cell_type": "code",
   "execution_count": 13,
   "metadata": {
    "ExecuteTime": {
     "end_time": "2020-02-12T06:26:42.109941Z",
     "start_time": "2020-02-12T06:26:40.659493Z"
    }
   },
   "outputs": [],
   "source": [
    "train.to_feather(path+'train.feather')\n",
    "test.to_feather(path+'test.feather')"
   ]
  },
  {
   "cell_type": "code",
   "execution_count": null,
   "metadata": {},
   "outputs": [],
   "source": []
  }
 ],
 "metadata": {
  "kernelspec": {
   "display_name": "Python 3",
   "language": "python",
   "name": "python3"
  },
  "language_info": {
   "codemirror_mode": {
    "name": "ipython",
    "version": 3
   },
   "file_extension": ".py",
   "mimetype": "text/x-python",
   "name": "python",
   "nbconvert_exporter": "python",
   "pygments_lexer": "ipython3",
   "version": "3.7.4"
  }
 },
 "nbformat": 4,
 "nbformat_minor": 2
}
